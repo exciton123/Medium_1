{
 "cells": [
  {
   "cell_type": "code",
   "execution_count": null,
   "id": "f943a481",
   "metadata": {},
   "outputs": [],
   "source": [
    "!pip install --upgrade openai"
   ]
  },
  {
   "cell_type": "code",
   "execution_count": null,
   "id": "bf2ef552",
   "metadata": {},
   "outputs": [],
   "source": [
    "import openai\n",
    "\n",
    "openai.api_key = \"YOUR_OPENAI_API_KEY\""
   ]
  },
  {
   "cell_type": "markdown",
   "id": "f6b3acb3",
   "metadata": {},
   "source": [
    "## Engaging with ChatGPT in your notebook"
   ]
  },
  {
   "cell_type": "code",
   "execution_count": null,
   "id": "29fff5d2",
   "metadata": {},
   "outputs": [],
   "source": [
    "# ChatGPT memory\n",
    "messages = []\n",
    "\n",
    "# ChatGPT\n",
    "while input != \"quit()\": \n",
    "    message = input()\n",
    "    messages.append({\"role\": \"user\", \"content\": message})\n",
    "    response = openai.ChatCompletion.create(\n",
    "        model=\"gpt-3.5-turbo\",\n",
    "        messages=messages)\n",
    "    reply = response[\"choices\"][0][\"message\"][\"content\"]\n",
    "    messages.append({\"role\": \"assistant\", \"content\": reply})\n",
    "    print(\"\\n\" + reply + \"\\n\")"
   ]
  },
  {
   "cell_type": "markdown",
   "id": "1ed2e6bf",
   "metadata": {},
   "source": [
    "## Submitting multiple requests and uploading previous messages"
   ]
  },
  {
   "cell_type": "code",
   "execution_count": null,
   "id": "c73b35bc",
   "metadata": {},
   "outputs": [],
   "source": [
    "# Messages to submit\n",
    "l_messages = [\n",
    "    {\"role\": \"user\", \"content\": 'Hello, can you suggest one new color to paint my house for halloween?'},\n",
    "    {\"role\": \"user\", \"content\": 'what is thew new color you suggested again?'},\n",
    "    {\"role\": \"user\", \"content\": 'What else should I do to my house?'}\n",
    "]\n",
    "\n",
    "# ChatGPT memory\n",
    "messages = []\n",
    "\n",
    "# Old messages to start off with\n",
    "#messages = [\n",
    "    #{'role': 'user', 'content': 'Hello, can you suggest one new color to paint my house for halloween?'}, \n",
    "    #{'role': 'assistant', 'content': 'You should paint your house pink for halloween.'},\n",
    "    #]\n",
    "#messages = [{'role': 'system', 'content': 'Please answer my questions in french, even if they are asked in english'}]\n",
    "\n",
    "# Iterate over submitted messages\n",
    "for i in range(len(l_messages)):\n",
    "    context = l_messages[:i+1]\n",
    "    messages.append({\"role\": \"user\", \"content\": context[-1][\"content\"]})\n",
    "    response = openai.ChatCompletion.create(\n",
    "        model=\"gpt-3.5-turbo\",\n",
    "        messages=messages)\n",
    "    reply = response[\"choices\"][0][\"message\"][\"content\"]\n",
    "    messages.append({\"role\": \"assistant\", \"content\": reply})\n",
    "\n",
    "    print(\"\\n\" + reply + \"\\n\")"
   ]
  },
  {
   "cell_type": "code",
   "execution_count": null,
   "id": "1346cf95",
   "metadata": {},
   "outputs": [],
   "source": [
    "print(messages)"
   ]
  },
  {
   "cell_type": "markdown",
   "id": "503cad20",
   "metadata": {},
   "source": [
    "## Submitting ChatGPT responses to itself"
   ]
  },
  {
   "cell_type": "code",
   "execution_count": null,
   "id": "fc31c775",
   "metadata": {},
   "outputs": [],
   "source": [
    "# Initial conversation starter\n",
    "messages = [\n",
    "    {'role': 'system', 'content': \"Please don't refer to yourself as an AI language model or reference your limitations. State your answers succintly.\"},\n",
    "    {'role': 'assistant', 'content': \"Okay. That sounds good to me.\"},\n",
    "    {\"role\": \"user\", \"content\": \"Let's create a new dialogue between two people on the subject of cats. Provide a quick fact about cats so we can get started.\"}\n",
    "    ]\n",
    "\n",
    "# Counter to limit responses    \n",
    "counter = 0\n",
    "\n",
    "while True:\n",
    "  \n",
    "    # Call OpenAI chat model\n",
    "    response = openai.ChatCompletion.create(\n",
    "        model=\"gpt-3.5-turbo\",\n",
    "        messages = messages,\n",
    "        max_tokens=1024,\n",
    "        n=1,\n",
    "        stop=None,\n",
    "        temperature=1.0,\n",
    "    )\n",
    "\n",
    "    # Extract assistant response from model output\n",
    "    reply = response[\"choices\"][0][\"message\"][\"content\"]\n",
    "\n",
    "    # Add assistant response to messages list. Note: This message does not have to be the 'reply'. This can be a default string or another function call, etc.\n",
    "    messages.append({\"role\": \"assistant\", \"content\": reply})\n",
    "\n",
    "    # Add assistant response as next input prompt\n",
    "    messages.append({\"role\": \"user\", \"content\": reply})\n",
    "\n",
    "    # Print assistant response\n",
    "    print(\"\\n\" + \"ChatGPT:\", reply)\n",
    "\n",
    "    # Increment counter\n",
    "    counter += 1\n",
    "\n",
    "    # Check if counter has been reached\n",
    "    if counter == 3:\n",
    "        print(\"Maximum number of responses reached.\")\n",
    "        break"
   ]
  },
  {
   "cell_type": "markdown",
   "id": "f733ac6c",
   "metadata": {},
   "source": [
    "### Upload csv file to convert to messages dict"
   ]
  },
  {
   "cell_type": "code",
   "execution_count": 9,
   "id": "9abb4d7d",
   "metadata": {},
   "outputs": [],
   "source": [
    "import pandas as pd"
   ]
  },
  {
   "cell_type": "code",
   "execution_count": 12,
   "id": "cf0d9d84",
   "metadata": {},
   "outputs": [],
   "source": [
    "df = pd.read_csv('YOUR_CSV.csv')"
   ]
  },
  {
   "cell_type": "code",
   "execution_count": null,
   "id": "efaa8ee5",
   "metadata": {},
   "outputs": [],
   "source": [
    "df.head()"
   ]
  },
  {
   "cell_type": "code",
   "execution_count": 14,
   "id": "9c71e221",
   "metadata": {},
   "outputs": [],
   "source": [
    "#Rename df columns to role and content\n",
    "df = df.rename(columns={'Title': 'role', 'Text': 'content'})"
   ]
  },
  {
   "cell_type": "code",
   "execution_count": 15,
   "id": "ae5f0766",
   "metadata": {},
   "outputs": [],
   "source": [
    "df = df.reset_index(drop=True)"
   ]
  },
  {
   "cell_type": "code",
   "execution_count": null,
   "id": "1a0853a0",
   "metadata": {},
   "outputs": [],
   "source": [
    "# create an empty list to hold the messages\n",
    "messages = []\n",
    "\n",
    "# loop through each row in the DataFrame\n",
    "for index, row in df.iterrows():\n",
    "    # create a dictionary for the user message\n",
    "    user_message = {'role': 'user', 'content': row['role']}\n",
    "    # create a dictionary for the assistant message\n",
    "    assistant_message = {'role': 'assistant', 'content': row['content']}\n",
    "    # add the dictionaries to the list of messages\n",
    "    messages.append(user_message)\n",
    "    messages.append(assistant_message)\n",
    "\n",
    "# print the list of messages\n",
    "print(messages)"
   ]
  }
 ],
 "metadata": {
  "kernelspec": {
   "display_name": "Python 3 (ipykernel)",
   "language": "python",
   "name": "python3"
  },
  "language_info": {
   "codemirror_mode": {
    "name": "ipython",
    "version": 3
   },
   "file_extension": ".py",
   "mimetype": "text/x-python",
   "name": "python",
   "nbconvert_exporter": "python",
   "pygments_lexer": "ipython3",
   "version": "3.9.13"
  }
 },
 "nbformat": 4,
 "nbformat_minor": 5
}
